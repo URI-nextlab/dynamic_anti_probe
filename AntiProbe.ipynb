{
 "cells": [
  {
   "cell_type": "code",
   "execution_count": 1,
   "metadata": {},
   "outputs": [
    {
     "data": {
      "application/javascript": [
       "\n",
       "require(['notebook/js/codecell'], function(codecell) {\n",
       "  codecell.CodeCell.options_default.highlight_modes[\n",
       "      'magic_text/x-csrc'] = {'reg':[/^%%microblaze/]};\n",
       "  Jupyter.notebook.events.one('kernel_ready.Kernel', function(){\n",
       "      Jupyter.notebook.get_cells().map(function(cell){\n",
       "          if (cell.cell_type == 'code'){ cell.auto_highlight(); } }) ;\n",
       "  });\n",
       "});\n"
      ]
     },
     "metadata": {},
     "output_type": "display_data"
    }
   ],
   "source": [
    "import os\n",
    "import GTH_Vernier\n",
    "from pynq import pl\n",
    "import gth_api\n",
    "import time\n",
    "import importlib\n",
    "import numpy as np\n",
    "\n",
    "import socket\n",
    "ss = socket.socket(socket.AF_INET,socket.SOCK_DGRAM)\n",
    "BUFFER_SIZE = 16384\n",
    "TARGET_ADDR = '192.168.0.122'\n",
    "TARGET_PORT = 60000\n",
    "TARGET = (TARGET_ADDR,TARGET_PORT)\n",
    "data = np.empty((448,1),dtype=np.uint32)\n",
    "\n",
    "overlay = pl.Bitstream(\"ZCU104_AntiProbetop.bit\");\n",
    "overlay.download()\n",
    "ets = GTH_Vernier.GTH_System(0xA0000000,0xA0001000)\n",
    "ets.set_average(416)\n",
    "ets.enable()\n",
    "server_address = \"alfred@192.168.0.122:/home/alfred/Documents/experiment_data/anti_probe/\"\n",
    "\n",
    "gth_api.get_log_file(server_address);"
   ]
  },
  {
   "cell_type": "code",
   "execution_count": null,
   "metadata": {},
   "outputs": [],
   "source": [
    "name = \"tri_test\" + str(i)\n",
    "comment = \"TRI,squre signal, DCP(4-18G,-23dB).\\n\\tCable added,matched,not tampered\"\n",
    "N = 16\n",
    "\n",
    "gth_api.get_log_file(server_address);\n",
    "gth_api.get_data(ets,name,N,comment)\n",
    "gth_api.send_data(server_address,name + \"_*.txt\")\n",
    "gth_api.sync_log_file(server_address)\n",
    "i = i + 1\n",
    "i"
   ]
  },
  {
   "cell_type": "code",
   "execution_count": 18,
   "metadata": {},
   "outputs": [],
   "source": [
    "i = 4\n",
    "ets.start_capture(\"/Share/std.txt\")\n",
    "gth_api.send_data(server_address,\"std.txt\")"
   ]
  },
  {
   "cell_type": "code",
   "execution_count": 8,
   "metadata": {},
   "outputs": [],
   "source": [
    "import time"
   ]
  },
  {
   "cell_type": "code",
   "execution_count": null,
   "metadata": {},
   "outputs": [],
   "source": [
    "importlib.reload(GTH_Vernier)"
   ]
  },
  {
   "cell_type": "code",
   "execution_count": 2,
   "metadata": {},
   "outputs": [],
   "source": [
    "ets.send_out_package()"
   ]
  },
  {
   "cell_type": "code",
   "execution_count": 6,
   "metadata": {},
   "outputs": [],
   "source": [
    "ets.set_average(100)"
   ]
  },
  {
   "cell_type": "code",
   "execution_count": null,
   "metadata": {},
   "outputs": [],
   "source": [
    "while True:\n",
    "    ets.capture_to_numpy(data)\n",
    "    ss.sendto(data.tobytes(),TARGET)\n",
    "    time.sleep(0.01)"
   ]
  },
  {
   "cell_type": "code",
   "execution_count": 10,
   "metadata": {},
   "outputs": [
    {
     "name": "stdout",
     "output_type": "stream",
     "text": [
      "float64\n"
     ]
    }
   ],
   "source": [
    "ss.close()"
   ]
  },
  {
   "cell_type": "code",
   "execution_count": null,
   "metadata": {},
   "outputs": [],
   "source": [
    "# import socket\n",
    "# import numpy as np\n",
    "# ss = socket.socket(socket.AF_INET,socket.SOCK_DGRAM)\n",
    "# BUFFER_SIZE = 1024\n",
    "# TARGET_ADDR = '192.168.0.122'\n",
    "# TARGET_PORT = 60000\n",
    "# TARGET = (TARGET_ADDR,TARGET_PORT)\n",
    " \n",
    "\n",
    "# aa = np.loadtxt('/Share/temp.txt'); #输入相应数据\n",
    "# print(aa.dtype)\n",
    "# # if not aa:\n",
    "# #     break\n",
    "# #需要为字节型数据，将数据发送给相应目标IP地址及端口号\n",
    "# ss.sendto(aa.tobytes(),TARGET)\n",
    "# # data,addrRsv = ss.recvfrom(BUFFER_SIZE)\n",
    "# #     print(data)\n",
    "# #     print(addrRsv)\n",
    "    \n",
    "# ss.close()"
   ]
  }
 ],
 "metadata": {
  "kernelspec": {
   "display_name": "Python 3",
   "language": "python",
   "name": "python3"
  },
  "language_info": {
   "codemirror_mode": {
    "name": "ipython",
    "version": 3
   },
   "file_extension": ".py",
   "mimetype": "text/x-python",
   "name": "python",
   "nbconvert_exporter": "python",
   "pygments_lexer": "ipython3",
   "version": "3.6.5"
  }
 },
 "nbformat": 4,
 "nbformat_minor": 2
}
